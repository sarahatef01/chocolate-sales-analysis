{
  "nbformat": 4,
  "nbformat_minor": 0,
  "metadata": {
    "colab": {
      "provenance": [],
      "authorship_tag": "ABX9TyMQ6iFFGs2O6V30ReI5KooR",
      "include_colab_link": true
    },
    "kernelspec": {
      "name": "python3",
      "display_name": "Python 3"
    },
    "language_info": {
      "name": "python"
    }
  },
  "cells": [
    {
      "cell_type": "markdown",
      "metadata": {
        "id": "view-in-github",
        "colab_type": "text"
      },
      "source": [
        "<a href=\"https://colab.research.google.com/github/sarahatef01/chocolate-sales-analysis/blob/main/chocolate_sales.ipynb\" target=\"_parent\"><img src=\"https://colab.research.google.com/assets/colab-badge.svg\" alt=\"Open In Colab\"/></a>"
      ]
    },
    {
      "cell_type": "code",
      "execution_count": null,
      "metadata": {
        "id": "x2KCAqyA4kEg"
      },
      "outputs": [],
      "source": [
        "import pandas as pd\n",
        "import matplotlib.pyplot as plt\n"
      ]
    },
    {
      "cell_type": "code",
      "source": [
        "df = pd.read_csv('/content/Chocolate Sales.csv')\n",
        "df.head()"
      ],
      "metadata": {
        "colab": {
          "base_uri": "https://localhost:8080/",
          "height": 206
        },
        "id": "p_YW6WWz4yXX",
        "outputId": "45d5f9c6-26bd-4b1a-a8aa-e16a7a15004d"
      },
      "execution_count": null,
      "outputs": [
        {
          "output_type": "execute_result",
          "data": {
            "text/plain": [
              "     Sales Person    Country              Product       Date    Amount  \\\n",
              "0  Jehu Rudeforth         UK      Mint Chip Choco  04-Jan-22   $5,320    \n",
              "1     Van Tuxwell      India        85% Dark Bars  01-Aug-22   $7,896    \n",
              "2    Gigi Bohling      India  Peanut Butter Cubes  07-Jul-22   $4,501    \n",
              "3    Jan Morforth  Australia  Peanut Butter Cubes  27-Apr-22  $12,726    \n",
              "4  Jehu Rudeforth         UK  Peanut Butter Cubes  24-Feb-22  $13,685    \n",
              "\n",
              "   Boxes Shipped  \n",
              "0            180  \n",
              "1             94  \n",
              "2             91  \n",
              "3            342  \n",
              "4            184  "
            ],
            "text/html": [
              "\n",
              "  <div id=\"df-f3f71938-1e46-4f98-bcae-f407aa3e2f71\" class=\"colab-df-container\">\n",
              "    <div>\n",
              "<style scoped>\n",
              "    .dataframe tbody tr th:only-of-type {\n",
              "        vertical-align: middle;\n",
              "    }\n",
              "\n",
              "    .dataframe tbody tr th {\n",
              "        vertical-align: top;\n",
              "    }\n",
              "\n",
              "    .dataframe thead th {\n",
              "        text-align: right;\n",
              "    }\n",
              "</style>\n",
              "<table border=\"1\" class=\"dataframe\">\n",
              "  <thead>\n",
              "    <tr style=\"text-align: right;\">\n",
              "      <th></th>\n",
              "      <th>Sales Person</th>\n",
              "      <th>Country</th>\n",
              "      <th>Product</th>\n",
              "      <th>Date</th>\n",
              "      <th>Amount</th>\n",
              "      <th>Boxes Shipped</th>\n",
              "    </tr>\n",
              "  </thead>\n",
              "  <tbody>\n",
              "    <tr>\n",
              "      <th>0</th>\n",
              "      <td>Jehu Rudeforth</td>\n",
              "      <td>UK</td>\n",
              "      <td>Mint Chip Choco</td>\n",
              "      <td>04-Jan-22</td>\n",
              "      <td>$5,320</td>\n",
              "      <td>180</td>\n",
              "    </tr>\n",
              "    <tr>\n",
              "      <th>1</th>\n",
              "      <td>Van Tuxwell</td>\n",
              "      <td>India</td>\n",
              "      <td>85% Dark Bars</td>\n",
              "      <td>01-Aug-22</td>\n",
              "      <td>$7,896</td>\n",
              "      <td>94</td>\n",
              "    </tr>\n",
              "    <tr>\n",
              "      <th>2</th>\n",
              "      <td>Gigi Bohling</td>\n",
              "      <td>India</td>\n",
              "      <td>Peanut Butter Cubes</td>\n",
              "      <td>07-Jul-22</td>\n",
              "      <td>$4,501</td>\n",
              "      <td>91</td>\n",
              "    </tr>\n",
              "    <tr>\n",
              "      <th>3</th>\n",
              "      <td>Jan Morforth</td>\n",
              "      <td>Australia</td>\n",
              "      <td>Peanut Butter Cubes</td>\n",
              "      <td>27-Apr-22</td>\n",
              "      <td>$12,726</td>\n",
              "      <td>342</td>\n",
              "    </tr>\n",
              "    <tr>\n",
              "      <th>4</th>\n",
              "      <td>Jehu Rudeforth</td>\n",
              "      <td>UK</td>\n",
              "      <td>Peanut Butter Cubes</td>\n",
              "      <td>24-Feb-22</td>\n",
              "      <td>$13,685</td>\n",
              "      <td>184</td>\n",
              "    </tr>\n",
              "  </tbody>\n",
              "</table>\n",
              "</div>\n",
              "    <div class=\"colab-df-buttons\">\n",
              "\n",
              "  <div class=\"colab-df-container\">\n",
              "    <button class=\"colab-df-convert\" onclick=\"convertToInteractive('df-f3f71938-1e46-4f98-bcae-f407aa3e2f71')\"\n",
              "            title=\"Convert this dataframe to an interactive table.\"\n",
              "            style=\"display:none;\">\n",
              "\n",
              "  <svg xmlns=\"http://www.w3.org/2000/svg\" height=\"24px\" viewBox=\"0 -960 960 960\">\n",
              "    <path d=\"M120-120v-720h720v720H120Zm60-500h600v-160H180v160Zm220 220h160v-160H400v160Zm0 220h160v-160H400v160ZM180-400h160v-160H180v160Zm440 0h160v-160H620v160ZM180-180h160v-160H180v160Zm440 0h160v-160H620v160Z\"/>\n",
              "  </svg>\n",
              "    </button>\n",
              "\n",
              "  <style>\n",
              "    .colab-df-container {\n",
              "      display:flex;\n",
              "      gap: 12px;\n",
              "    }\n",
              "\n",
              "    .colab-df-convert {\n",
              "      background-color: #E8F0FE;\n",
              "      border: none;\n",
              "      border-radius: 50%;\n",
              "      cursor: pointer;\n",
              "      display: none;\n",
              "      fill: #1967D2;\n",
              "      height: 32px;\n",
              "      padding: 0 0 0 0;\n",
              "      width: 32px;\n",
              "    }\n",
              "\n",
              "    .colab-df-convert:hover {\n",
              "      background-color: #E2EBFA;\n",
              "      box-shadow: 0px 1px 2px rgba(60, 64, 67, 0.3), 0px 1px 3px 1px rgba(60, 64, 67, 0.15);\n",
              "      fill: #174EA6;\n",
              "    }\n",
              "\n",
              "    .colab-df-buttons div {\n",
              "      margin-bottom: 4px;\n",
              "    }\n",
              "\n",
              "    [theme=dark] .colab-df-convert {\n",
              "      background-color: #3B4455;\n",
              "      fill: #D2E3FC;\n",
              "    }\n",
              "\n",
              "    [theme=dark] .colab-df-convert:hover {\n",
              "      background-color: #434B5C;\n",
              "      box-shadow: 0px 1px 3px 1px rgba(0, 0, 0, 0.15);\n",
              "      filter: drop-shadow(0px 1px 2px rgba(0, 0, 0, 0.3));\n",
              "      fill: #FFFFFF;\n",
              "    }\n",
              "  </style>\n",
              "\n",
              "    <script>\n",
              "      const buttonEl =\n",
              "        document.querySelector('#df-f3f71938-1e46-4f98-bcae-f407aa3e2f71 button.colab-df-convert');\n",
              "      buttonEl.style.display =\n",
              "        google.colab.kernel.accessAllowed ? 'block' : 'none';\n",
              "\n",
              "      async function convertToInteractive(key) {\n",
              "        const element = document.querySelector('#df-f3f71938-1e46-4f98-bcae-f407aa3e2f71');\n",
              "        const dataTable =\n",
              "          await google.colab.kernel.invokeFunction('convertToInteractive',\n",
              "                                                    [key], {});\n",
              "        if (!dataTable) return;\n",
              "\n",
              "        const docLinkHtml = 'Like what you see? Visit the ' +\n",
              "          '<a target=\"_blank\" href=https://colab.research.google.com/notebooks/data_table.ipynb>data table notebook</a>'\n",
              "          + ' to learn more about interactive tables.';\n",
              "        element.innerHTML = '';\n",
              "        dataTable['output_type'] = 'display_data';\n",
              "        await google.colab.output.renderOutput(dataTable, element);\n",
              "        const docLink = document.createElement('div');\n",
              "        docLink.innerHTML = docLinkHtml;\n",
              "        element.appendChild(docLink);\n",
              "      }\n",
              "    </script>\n",
              "  </div>\n",
              "\n",
              "\n",
              "    <div id=\"df-6fb308f7-20a6-4780-9d62-a03854166dbc\">\n",
              "      <button class=\"colab-df-quickchart\" onclick=\"quickchart('df-6fb308f7-20a6-4780-9d62-a03854166dbc')\"\n",
              "                title=\"Suggest charts\"\n",
              "                style=\"display:none;\">\n",
              "\n",
              "<svg xmlns=\"http://www.w3.org/2000/svg\" height=\"24px\"viewBox=\"0 0 24 24\"\n",
              "     width=\"24px\">\n",
              "    <g>\n",
              "        <path d=\"M19 3H5c-1.1 0-2 .9-2 2v14c0 1.1.9 2 2 2h14c1.1 0 2-.9 2-2V5c0-1.1-.9-2-2-2zM9 17H7v-7h2v7zm4 0h-2V7h2v10zm4 0h-2v-4h2v4z\"/>\n",
              "    </g>\n",
              "</svg>\n",
              "      </button>\n",
              "\n",
              "<style>\n",
              "  .colab-df-quickchart {\n",
              "      --bg-color: #E8F0FE;\n",
              "      --fill-color: #1967D2;\n",
              "      --hover-bg-color: #E2EBFA;\n",
              "      --hover-fill-color: #174EA6;\n",
              "      --disabled-fill-color: #AAA;\n",
              "      --disabled-bg-color: #DDD;\n",
              "  }\n",
              "\n",
              "  [theme=dark] .colab-df-quickchart {\n",
              "      --bg-color: #3B4455;\n",
              "      --fill-color: #D2E3FC;\n",
              "      --hover-bg-color: #434B5C;\n",
              "      --hover-fill-color: #FFFFFF;\n",
              "      --disabled-bg-color: #3B4455;\n",
              "      --disabled-fill-color: #666;\n",
              "  }\n",
              "\n",
              "  .colab-df-quickchart {\n",
              "    background-color: var(--bg-color);\n",
              "    border: none;\n",
              "    border-radius: 50%;\n",
              "    cursor: pointer;\n",
              "    display: none;\n",
              "    fill: var(--fill-color);\n",
              "    height: 32px;\n",
              "    padding: 0;\n",
              "    width: 32px;\n",
              "  }\n",
              "\n",
              "  .colab-df-quickchart:hover {\n",
              "    background-color: var(--hover-bg-color);\n",
              "    box-shadow: 0 1px 2px rgba(60, 64, 67, 0.3), 0 1px 3px 1px rgba(60, 64, 67, 0.15);\n",
              "    fill: var(--button-hover-fill-color);\n",
              "  }\n",
              "\n",
              "  .colab-df-quickchart-complete:disabled,\n",
              "  .colab-df-quickchart-complete:disabled:hover {\n",
              "    background-color: var(--disabled-bg-color);\n",
              "    fill: var(--disabled-fill-color);\n",
              "    box-shadow: none;\n",
              "  }\n",
              "\n",
              "  .colab-df-spinner {\n",
              "    border: 2px solid var(--fill-color);\n",
              "    border-color: transparent;\n",
              "    border-bottom-color: var(--fill-color);\n",
              "    animation:\n",
              "      spin 1s steps(1) infinite;\n",
              "  }\n",
              "\n",
              "  @keyframes spin {\n",
              "    0% {\n",
              "      border-color: transparent;\n",
              "      border-bottom-color: var(--fill-color);\n",
              "      border-left-color: var(--fill-color);\n",
              "    }\n",
              "    20% {\n",
              "      border-color: transparent;\n",
              "      border-left-color: var(--fill-color);\n",
              "      border-top-color: var(--fill-color);\n",
              "    }\n",
              "    30% {\n",
              "      border-color: transparent;\n",
              "      border-left-color: var(--fill-color);\n",
              "      border-top-color: var(--fill-color);\n",
              "      border-right-color: var(--fill-color);\n",
              "    }\n",
              "    40% {\n",
              "      border-color: transparent;\n",
              "      border-right-color: var(--fill-color);\n",
              "      border-top-color: var(--fill-color);\n",
              "    }\n",
              "    60% {\n",
              "      border-color: transparent;\n",
              "      border-right-color: var(--fill-color);\n",
              "    }\n",
              "    80% {\n",
              "      border-color: transparent;\n",
              "      border-right-color: var(--fill-color);\n",
              "      border-bottom-color: var(--fill-color);\n",
              "    }\n",
              "    90% {\n",
              "      border-color: transparent;\n",
              "      border-bottom-color: var(--fill-color);\n",
              "    }\n",
              "  }\n",
              "</style>\n",
              "\n",
              "      <script>\n",
              "        async function quickchart(key) {\n",
              "          const quickchartButtonEl =\n",
              "            document.querySelector('#' + key + ' button');\n",
              "          quickchartButtonEl.disabled = true;  // To prevent multiple clicks.\n",
              "          quickchartButtonEl.classList.add('colab-df-spinner');\n",
              "          try {\n",
              "            const charts = await google.colab.kernel.invokeFunction(\n",
              "                'suggestCharts', [key], {});\n",
              "          } catch (error) {\n",
              "            console.error('Error during call to suggestCharts:', error);\n",
              "          }\n",
              "          quickchartButtonEl.classList.remove('colab-df-spinner');\n",
              "          quickchartButtonEl.classList.add('colab-df-quickchart-complete');\n",
              "        }\n",
              "        (() => {\n",
              "          let quickchartButtonEl =\n",
              "            document.querySelector('#df-6fb308f7-20a6-4780-9d62-a03854166dbc button');\n",
              "          quickchartButtonEl.style.display =\n",
              "            google.colab.kernel.accessAllowed ? 'block' : 'none';\n",
              "        })();\n",
              "      </script>\n",
              "    </div>\n",
              "\n",
              "    </div>\n",
              "  </div>\n"
            ],
            "application/vnd.google.colaboratory.intrinsic+json": {
              "type": "dataframe",
              "variable_name": "df",
              "summary": "{\n  \"name\": \"df\",\n  \"rows\": 1094,\n  \"fields\": [\n    {\n      \"column\": \"Sales Person\",\n      \"properties\": {\n        \"dtype\": \"category\",\n        \"num_unique_values\": 25,\n        \"samples\": [\n          \"Barr Faughny\",\n          \"Kaine Padly\",\n          \"Jehu Rudeforth\"\n        ],\n        \"semantic_type\": \"\",\n        \"description\": \"\"\n      }\n    },\n    {\n      \"column\": \"Country\",\n      \"properties\": {\n        \"dtype\": \"category\",\n        \"num_unique_values\": 6,\n        \"samples\": [\n          \"UK\",\n          \"India\",\n          \"Canada\"\n        ],\n        \"semantic_type\": \"\",\n        \"description\": \"\"\n      }\n    },\n    {\n      \"column\": \"Product\",\n      \"properties\": {\n        \"dtype\": \"category\",\n        \"num_unique_values\": 22,\n        \"samples\": [\n          \"Mint Chip Choco\",\n          \"Fruit & Nut Bars\",\n          \"Eclairs\"\n        ],\n        \"semantic_type\": \"\",\n        \"description\": \"\"\n      }\n    },\n    {\n      \"column\": \"Date\",\n      \"properties\": {\n        \"dtype\": \"object\",\n        \"num_unique_values\": 168,\n        \"samples\": [\n          \"22-Jun-22\",\n          \"30-Jun-22\",\n          \"22-Apr-22\"\n        ],\n        \"semantic_type\": \"\",\n        \"description\": \"\"\n      }\n    },\n    {\n      \"column\": \"Amount\",\n      \"properties\": {\n        \"dtype\": \"string\",\n        \"num_unique_values\": 827,\n        \"samples\": [\n          \"$9,660 \",\n          \"$3,318 \",\n          \"$4,347 \"\n        ],\n        \"semantic_type\": \"\",\n        \"description\": \"\"\n      }\n    },\n    {\n      \"column\": \"Boxes Shipped\",\n      \"properties\": {\n        \"dtype\": \"number\",\n        \"std\": 121,\n        \"min\": 1,\n        \"max\": 709,\n        \"num_unique_values\": 385,\n        \"samples\": [\n          316,\n          322,\n          518\n        ],\n        \"semantic_type\": \"\",\n        \"description\": \"\"\n      }\n    }\n  ]\n}"
            }
          },
          "metadata": {},
          "execution_count": 3
        }
      ]
    },
    {
      "cell_type": "code",
      "source": [
        "df.info()"
      ],
      "metadata": {
        "colab": {
          "base_uri": "https://localhost:8080/"
        },
        "id": "Io02cVlY48U1",
        "outputId": "533b5d1d-0555-4d58-cbea-e6ef89c4199d"
      },
      "execution_count": null,
      "outputs": [
        {
          "output_type": "stream",
          "name": "stdout",
          "text": [
            "<class 'pandas.core.frame.DataFrame'>\n",
            "RangeIndex: 1094 entries, 0 to 1093\n",
            "Data columns (total 6 columns):\n",
            " #   Column         Non-Null Count  Dtype \n",
            "---  ------         --------------  ----- \n",
            " 0   Sales Person   1094 non-null   object\n",
            " 1   Country        1094 non-null   object\n",
            " 2   Product        1094 non-null   object\n",
            " 3   Date           1094 non-null   object\n",
            " 4   Amount         1094 non-null   object\n",
            " 5   Boxes Shipped  1094 non-null   int64 \n",
            "dtypes: int64(1), object(5)\n",
            "memory usage: 51.4+ KB\n"
          ]
        }
      ]
    },
    {
      "cell_type": "markdown",
      "source": [
        "1094 sales have been done this year with an average of 162 boxes per sale and median 135 boxes per sale, while the maximum was 709 boxes"
      ],
      "metadata": {
        "id": "y6ac59nEZhOR"
      }
    },
    {
      "cell_type": "code",
      "source": [
        "df.describe()"
      ],
      "metadata": {
        "colab": {
          "base_uri": "https://localhost:8080/",
          "height": 300
        },
        "id": "a7TKkhMgAoaL",
        "outputId": "d90a1612-dec6-4ebd-d539-1967e656bc9f"
      },
      "execution_count": null,
      "outputs": [
        {
          "output_type": "execute_result",
          "data": {
            "text/plain": [
              "       Boxes Shipped\n",
              "count    1094.000000\n",
              "mean      161.797989\n",
              "std       121.544145\n",
              "min         1.000000\n",
              "25%        70.000000\n",
              "50%       135.000000\n",
              "75%       228.750000\n",
              "max       709.000000"
            ],
            "text/html": [
              "\n",
              "  <div id=\"df-2c30d6d3-50cc-4e41-b51f-aa828c05d9bd\" class=\"colab-df-container\">\n",
              "    <div>\n",
              "<style scoped>\n",
              "    .dataframe tbody tr th:only-of-type {\n",
              "        vertical-align: middle;\n",
              "    }\n",
              "\n",
              "    .dataframe tbody tr th {\n",
              "        vertical-align: top;\n",
              "    }\n",
              "\n",
              "    .dataframe thead th {\n",
              "        text-align: right;\n",
              "    }\n",
              "</style>\n",
              "<table border=\"1\" class=\"dataframe\">\n",
              "  <thead>\n",
              "    <tr style=\"text-align: right;\">\n",
              "      <th></th>\n",
              "      <th>Boxes Shipped</th>\n",
              "    </tr>\n",
              "  </thead>\n",
              "  <tbody>\n",
              "    <tr>\n",
              "      <th>count</th>\n",
              "      <td>1094.000000</td>\n",
              "    </tr>\n",
              "    <tr>\n",
              "      <th>mean</th>\n",
              "      <td>161.797989</td>\n",
              "    </tr>\n",
              "    <tr>\n",
              "      <th>std</th>\n",
              "      <td>121.544145</td>\n",
              "    </tr>\n",
              "    <tr>\n",
              "      <th>min</th>\n",
              "      <td>1.000000</td>\n",
              "    </tr>\n",
              "    <tr>\n",
              "      <th>25%</th>\n",
              "      <td>70.000000</td>\n",
              "    </tr>\n",
              "    <tr>\n",
              "      <th>50%</th>\n",
              "      <td>135.000000</td>\n",
              "    </tr>\n",
              "    <tr>\n",
              "      <th>75%</th>\n",
              "      <td>228.750000</td>\n",
              "    </tr>\n",
              "    <tr>\n",
              "      <th>max</th>\n",
              "      <td>709.000000</td>\n",
              "    </tr>\n",
              "  </tbody>\n",
              "</table>\n",
              "</div>\n",
              "    <div class=\"colab-df-buttons\">\n",
              "\n",
              "  <div class=\"colab-df-container\">\n",
              "    <button class=\"colab-df-convert\" onclick=\"convertToInteractive('df-2c30d6d3-50cc-4e41-b51f-aa828c05d9bd')\"\n",
              "            title=\"Convert this dataframe to an interactive table.\"\n",
              "            style=\"display:none;\">\n",
              "\n",
              "  <svg xmlns=\"http://www.w3.org/2000/svg\" height=\"24px\" viewBox=\"0 -960 960 960\">\n",
              "    <path d=\"M120-120v-720h720v720H120Zm60-500h600v-160H180v160Zm220 220h160v-160H400v160Zm0 220h160v-160H400v160ZM180-400h160v-160H180v160Zm440 0h160v-160H620v160ZM180-180h160v-160H180v160Zm440 0h160v-160H620v160Z\"/>\n",
              "  </svg>\n",
              "    </button>\n",
              "\n",
              "  <style>\n",
              "    .colab-df-container {\n",
              "      display:flex;\n",
              "      gap: 12px;\n",
              "    }\n",
              "\n",
              "    .colab-df-convert {\n",
              "      background-color: #E8F0FE;\n",
              "      border: none;\n",
              "      border-radius: 50%;\n",
              "      cursor: pointer;\n",
              "      display: none;\n",
              "      fill: #1967D2;\n",
              "      height: 32px;\n",
              "      padding: 0 0 0 0;\n",
              "      width: 32px;\n",
              "    }\n",
              "\n",
              "    .colab-df-convert:hover {\n",
              "      background-color: #E2EBFA;\n",
              "      box-shadow: 0px 1px 2px rgba(60, 64, 67, 0.3), 0px 1px 3px 1px rgba(60, 64, 67, 0.15);\n",
              "      fill: #174EA6;\n",
              "    }\n",
              "\n",
              "    .colab-df-buttons div {\n",
              "      margin-bottom: 4px;\n",
              "    }\n",
              "\n",
              "    [theme=dark] .colab-df-convert {\n",
              "      background-color: #3B4455;\n",
              "      fill: #D2E3FC;\n",
              "    }\n",
              "\n",
              "    [theme=dark] .colab-df-convert:hover {\n",
              "      background-color: #434B5C;\n",
              "      box-shadow: 0px 1px 3px 1px rgba(0, 0, 0, 0.15);\n",
              "      filter: drop-shadow(0px 1px 2px rgba(0, 0, 0, 0.3));\n",
              "      fill: #FFFFFF;\n",
              "    }\n",
              "  </style>\n",
              "\n",
              "    <script>\n",
              "      const buttonEl =\n",
              "        document.querySelector('#df-2c30d6d3-50cc-4e41-b51f-aa828c05d9bd button.colab-df-convert');\n",
              "      buttonEl.style.display =\n",
              "        google.colab.kernel.accessAllowed ? 'block' : 'none';\n",
              "\n",
              "      async function convertToInteractive(key) {\n",
              "        const element = document.querySelector('#df-2c30d6d3-50cc-4e41-b51f-aa828c05d9bd');\n",
              "        const dataTable =\n",
              "          await google.colab.kernel.invokeFunction('convertToInteractive',\n",
              "                                                    [key], {});\n",
              "        if (!dataTable) return;\n",
              "\n",
              "        const docLinkHtml = 'Like what you see? Visit the ' +\n",
              "          '<a target=\"_blank\" href=https://colab.research.google.com/notebooks/data_table.ipynb>data table notebook</a>'\n",
              "          + ' to learn more about interactive tables.';\n",
              "        element.innerHTML = '';\n",
              "        dataTable['output_type'] = 'display_data';\n",
              "        await google.colab.output.renderOutput(dataTable, element);\n",
              "        const docLink = document.createElement('div');\n",
              "        docLink.innerHTML = docLinkHtml;\n",
              "        element.appendChild(docLink);\n",
              "      }\n",
              "    </script>\n",
              "  </div>\n",
              "\n",
              "\n",
              "    <div id=\"df-6f54a39f-d347-4098-95e2-1cbe09b81dc1\">\n",
              "      <button class=\"colab-df-quickchart\" onclick=\"quickchart('df-6f54a39f-d347-4098-95e2-1cbe09b81dc1')\"\n",
              "                title=\"Suggest charts\"\n",
              "                style=\"display:none;\">\n",
              "\n",
              "<svg xmlns=\"http://www.w3.org/2000/svg\" height=\"24px\"viewBox=\"0 0 24 24\"\n",
              "     width=\"24px\">\n",
              "    <g>\n",
              "        <path d=\"M19 3H5c-1.1 0-2 .9-2 2v14c0 1.1.9 2 2 2h14c1.1 0 2-.9 2-2V5c0-1.1-.9-2-2-2zM9 17H7v-7h2v7zm4 0h-2V7h2v10zm4 0h-2v-4h2v4z\"/>\n",
              "    </g>\n",
              "</svg>\n",
              "      </button>\n",
              "\n",
              "<style>\n",
              "  .colab-df-quickchart {\n",
              "      --bg-color: #E8F0FE;\n",
              "      --fill-color: #1967D2;\n",
              "      --hover-bg-color: #E2EBFA;\n",
              "      --hover-fill-color: #174EA6;\n",
              "      --disabled-fill-color: #AAA;\n",
              "      --disabled-bg-color: #DDD;\n",
              "  }\n",
              "\n",
              "  [theme=dark] .colab-df-quickchart {\n",
              "      --bg-color: #3B4455;\n",
              "      --fill-color: #D2E3FC;\n",
              "      --hover-bg-color: #434B5C;\n",
              "      --hover-fill-color: #FFFFFF;\n",
              "      --disabled-bg-color: #3B4455;\n",
              "      --disabled-fill-color: #666;\n",
              "  }\n",
              "\n",
              "  .colab-df-quickchart {\n",
              "    background-color: var(--bg-color);\n",
              "    border: none;\n",
              "    border-radius: 50%;\n",
              "    cursor: pointer;\n",
              "    display: none;\n",
              "    fill: var(--fill-color);\n",
              "    height: 32px;\n",
              "    padding: 0;\n",
              "    width: 32px;\n",
              "  }\n",
              "\n",
              "  .colab-df-quickchart:hover {\n",
              "    background-color: var(--hover-bg-color);\n",
              "    box-shadow: 0 1px 2px rgba(60, 64, 67, 0.3), 0 1px 3px 1px rgba(60, 64, 67, 0.15);\n",
              "    fill: var(--button-hover-fill-color);\n",
              "  }\n",
              "\n",
              "  .colab-df-quickchart-complete:disabled,\n",
              "  .colab-df-quickchart-complete:disabled:hover {\n",
              "    background-color: var(--disabled-bg-color);\n",
              "    fill: var(--disabled-fill-color);\n",
              "    box-shadow: none;\n",
              "  }\n",
              "\n",
              "  .colab-df-spinner {\n",
              "    border: 2px solid var(--fill-color);\n",
              "    border-color: transparent;\n",
              "    border-bottom-color: var(--fill-color);\n",
              "    animation:\n",
              "      spin 1s steps(1) infinite;\n",
              "  }\n",
              "\n",
              "  @keyframes spin {\n",
              "    0% {\n",
              "      border-color: transparent;\n",
              "      border-bottom-color: var(--fill-color);\n",
              "      border-left-color: var(--fill-color);\n",
              "    }\n",
              "    20% {\n",
              "      border-color: transparent;\n",
              "      border-left-color: var(--fill-color);\n",
              "      border-top-color: var(--fill-color);\n",
              "    }\n",
              "    30% {\n",
              "      border-color: transparent;\n",
              "      border-left-color: var(--fill-color);\n",
              "      border-top-color: var(--fill-color);\n",
              "      border-right-color: var(--fill-color);\n",
              "    }\n",
              "    40% {\n",
              "      border-color: transparent;\n",
              "      border-right-color: var(--fill-color);\n",
              "      border-top-color: var(--fill-color);\n",
              "    }\n",
              "    60% {\n",
              "      border-color: transparent;\n",
              "      border-right-color: var(--fill-color);\n",
              "    }\n",
              "    80% {\n",
              "      border-color: transparent;\n",
              "      border-right-color: var(--fill-color);\n",
              "      border-bottom-color: var(--fill-color);\n",
              "    }\n",
              "    90% {\n",
              "      border-color: transparent;\n",
              "      border-bottom-color: var(--fill-color);\n",
              "    }\n",
              "  }\n",
              "</style>\n",
              "\n",
              "      <script>\n",
              "        async function quickchart(key) {\n",
              "          const quickchartButtonEl =\n",
              "            document.querySelector('#' + key + ' button');\n",
              "          quickchartButtonEl.disabled = true;  // To prevent multiple clicks.\n",
              "          quickchartButtonEl.classList.add('colab-df-spinner');\n",
              "          try {\n",
              "            const charts = await google.colab.kernel.invokeFunction(\n",
              "                'suggestCharts', [key], {});\n",
              "          } catch (error) {\n",
              "            console.error('Error during call to suggestCharts:', error);\n",
              "          }\n",
              "          quickchartButtonEl.classList.remove('colab-df-spinner');\n",
              "          quickchartButtonEl.classList.add('colab-df-quickchart-complete');\n",
              "        }\n",
              "        (() => {\n",
              "          let quickchartButtonEl =\n",
              "            document.querySelector('#df-6f54a39f-d347-4098-95e2-1cbe09b81dc1 button');\n",
              "          quickchartButtonEl.style.display =\n",
              "            google.colab.kernel.accessAllowed ? 'block' : 'none';\n",
              "        })();\n",
              "      </script>\n",
              "    </div>\n",
              "\n",
              "    </div>\n",
              "  </div>\n"
            ],
            "application/vnd.google.colaboratory.intrinsic+json": {
              "type": "dataframe",
              "summary": "{\n  \"name\": \"df\",\n  \"rows\": 8,\n  \"fields\": [\n    {\n      \"column\": \"Boxes Shipped\",\n      \"properties\": {\n        \"dtype\": \"number\",\n        \"std\": 381.9934437072297,\n        \"min\": 1.0,\n        \"max\": 1094.0,\n        \"num_unique_values\": 8,\n        \"samples\": [\n          161.7979890310786,\n          135.0,\n          1094.0\n        ],\n        \"semantic_type\": \"\",\n        \"description\": \"\"\n      }\n    }\n  ]\n}"
            }
          },
          "metadata": {},
          "execution_count": 5
        }
      ]
    },
    {
      "cell_type": "code",
      "source": [
        "# converting the ammount into float after removing the $ sign\n",
        "df['Amount']=df['Amount'].replace('[\\$,]', '', regex=True).astype(float)\n",
        "# convert date to a dateobject\n",
        "df['Date']=pd.to_datetime(df['Date'], format='mixed',dayfirst=True)"
      ],
      "metadata": {
        "id": "4mXST2T35NAW"
      },
      "execution_count": null,
      "outputs": []
    },
    {
      "cell_type": "code",
      "source": [
        "#checking countries for spelling mistakes, all \"unique\" values are truly unique\n",
        "df['Country'].unique()\n",
        "df['Product'].unique()"
      ],
      "metadata": {
        "colab": {
          "base_uri": "https://localhost:8080/"
        },
        "id": "ZHiNpOqV6J-y",
        "outputId": "f26882cb-03bf-4cb7-e30d-cba5f161e90b"
      },
      "execution_count": null,
      "outputs": [
        {
          "output_type": "execute_result",
          "data": {
            "text/plain": [
              "array(['Mint Chip Choco', '85% Dark Bars', 'Peanut Butter Cubes',\n",
              "       'Smooth Sliky Salty', '99% Dark & Pure', 'After Nines',\n",
              "       '50% Dark Bites', 'Orange Choco', 'Eclairs', 'Drinking Coco',\n",
              "       'Organic Choco Syrup', 'Milk Bars', 'Spicy Special Slims',\n",
              "       'Fruit & Nut Bars', 'White Choc', 'Manuka Honey Choco',\n",
              "       'Almond Choco', 'Raspberry Choco', 'Choco Coated Almonds',\n",
              "       \"Baker's Choco Chips\", 'Caramel Stuffed Bars', '70% Dark Bites'],\n",
              "      dtype=object)"
            ]
          },
          "metadata": {},
          "execution_count": 7
        }
      ]
    },
    {
      "cell_type": "code",
      "source": [
        "#most selling products\n",
        "productsales = df.groupby(\"Product\")[\"Boxes Shipped\"].sum().sort_values(ascending=False)\n",
        "productsales.plot(kind=\"bar\")\n",
        "plt.title('product sales')\n",
        "plt.xlabel('Product')\n",
        "plt.ylabel('Count')\n",
        "plt.show()"
      ],
      "metadata": {
        "colab": {
          "base_uri": "https://localhost:8080/",
          "height": 619
        },
        "id": "n95DKIPs67Qh",
        "outputId": "404883e1-eaec-4d43-e469-8bcbe6f8490a"
      },
      "execution_count": null,
      "outputs": [
        {
          "output_type": "display_data",
          "data": {
            "text/plain": [
              "<Figure size 640x480 with 1 Axes>"
            ],
            "image/png": "[encoded data removed]"
          },
          "metadata": {}
        }
      ]
    },
    {
      "cell_type": "code",
      "source": [
        "print(\"best selling product is\",productsales.idxmax(),\"with\",productsales.max(),\"boxes sold\")\n",
        "print(\"worst selling product is\",productsales.idxmin(),\"with\",productsales.min(),\"boxes sold\")\n"
      ],
      "metadata": {
        "colab": {
          "base_uri": "https://localhost:8080/"
        },
        "id": "8wZABnHuAQ8e",
        "outputId": "1ee303a3-92c6-4da5-bf3c-2af4918340e5"
      },
      "execution_count": null,
      "outputs": [
        {
          "output_type": "stream",
          "name": "stdout",
          "text": [
            "best selling product is 50% Dark Bites with 9792 boxes sold\n",
            "worst selling product is Choco Coated Almonds with 6464 boxes sold\n"
          ]
        }
      ]
    },
    {
      "cell_type": "markdown",
      "source": [
        "there has been a decline in sales june to august while no sales were done september to december"
      ],
      "metadata": {
        "id": "DVUFA61TgqUC"
      }
    },
    {
      "cell_type": "code",
      "source": [
        "df[\"month\"]=df[\"Date\"].dt.month_name()\n",
        "month_order = ['January', 'February', 'March', 'April', 'May', 'June',\n",
        "               'July', 'August']\n",
        "monthly_sales = df.groupby('month')['Amount'].sum().reindex(month_order)\n",
        "monthly_sales.plot(kind='line')\n",
        "plt.title('revenue per month')\n",
        "plt.show()"
      ],
      "metadata": {
        "colab": {
          "base_uri": "https://localhost:8080/",
          "height": 472
        },
        "id": "q_OwVPOPSNRG",
        "outputId": "818529e4-bdfd-496e-f324-3d2c6e990050"
      },
      "execution_count": null,
      "outputs": [
        {
          "output_type": "display_data",
          "data": {
            "text/plain": [
              "<Figure size 640x480 with 1 Axes>"
            ],
            "image/png": "[encoded data removed]"
          },
          "metadata": {}
        }
      ]
    },
    {
      "cell_type": "markdown",
      "source": [],
      "metadata": {
        "id": "DirD9JAghsdg"
      }
    },
    {
      "cell_type": "markdown",
      "source": [
        "consider producing extra stock in months which demand of the product peaks"
      ],
      "metadata": {
        "id": "ofAM6Fltht3j"
      }
    },
    {
      "cell_type": "code",
      "source": [
        "monthly_product_sales_pivot = df.pivot_table(\n",
        "    index='month',\n",
        "    columns='Product',\n",
        "    values='Boxes Shipped',\n",
        "    aggfunc='sum', # Crucial: Tell pivot_table how to aggregate the values\n",
        "    fill_value=0\n",
        ")\n",
        "monthly_product_sales_pivot = monthly_product_sales_pivot.reindex(month_order)\n",
        "\n",
        "print(monthly_product_sales_pivot)"
      ],
      "metadata": {
        "colab": {
          "base_uri": "https://localhost:8080/"
        },
        "id": "nQjoFSNZa39L",
        "outputId": "73646fc4-ef83-48ca-c9f1-ae4d191f9847"
      },
      "execution_count": null,
      "outputs": [
        {
          "output_type": "stream",
          "name": "stdout",
          "text": [
            "Product   50% Dark Bites  70% Dark Bites  85% Dark Bars  99% Dark & Pure  \\\n",
            "month                                                                      \n",
            "January             1888            1159            402             1552   \n",
            "February             821            1320            866              647   \n",
            "March                835             964            172              606   \n",
            "April               1014            1444           1818              183   \n",
            "May                 1397             723           1205             1039   \n",
            "June                1681            1785           1439             1397   \n",
            "July                1488             195            587              691   \n",
            "August               668             425           1304             2012   \n",
            "\n",
            "Product   After Nines  Almond Choco  Baker's Choco Chips  \\\n",
            "month                                                      \n",
            "January          1908          1508                 1314   \n",
            "February           47           909                  774   \n",
            "March            1382           452                 1190   \n",
            "April             938           531                  781   \n",
            "May               497          1128                  840   \n",
            "June              894           957                  911   \n",
            "July             1372           734                   24   \n",
            "August           1219           517                 1164   \n",
            "\n",
            "Product   Caramel Stuffed Bars  Choco Coated Almonds  Drinking Coco  ...  \\\n",
            "month                                                                ...   \n",
            "January                   1587                   558           1498  ...   \n",
            "February                  1026                   769           1286  ...   \n",
            "March                      958                   348            702  ...   \n",
            "April                      665                   900            689  ...   \n",
            "May                        745                   821           1081  ...   \n",
            "June                      1559                   554           1293  ...   \n",
            "July                      1259                   576           1948  ...   \n",
            "August                     918                  1938            163  ...   \n",
            "\n",
            "Product   Manuka Honey Choco  Milk Bars  Mint Chip Choco  Orange Choco  \\\n",
            "month                                                                    \n",
            "January                  593        793             1804           753   \n",
            "February                 545       1374              852           784   \n",
            "March                    929       1441              299           915   \n",
            "April                    664        809             1365          1556   \n",
            "May                     1001       1440             1031          1376   \n",
            "June                     986        986              677          1771   \n",
            "July                    2071       1296             1246           428   \n",
            "August                   992        191              933           149   \n",
            "\n",
            "Product   Organic Choco Syrup  Peanut Butter Cubes  Raspberry Choco  \\\n",
            "month                                                                 \n",
            "January                  2062                  895              950   \n",
            "February                  492                 1346              370   \n",
            "March                     831                 1317              889   \n",
            "April                     356                 1240             1071   \n",
            "May                       753                  247             1353   \n",
            "June                      648                 1180              864   \n",
            "July                     2058                  947              163   \n",
            "August                    549                 1132             1455   \n",
            "\n",
            "Product   Smooth Sliky Salty  Spicy Special Slims  White Choc  \n",
            "month                                                          \n",
            "January                 1603                 1552         974  \n",
            "February                 595                 1616         689  \n",
            "March                   2034                  682         828  \n",
            "April                    935                  802         757  \n",
            "May                     1526                  968         784  \n",
            "June                     857                 1333        1399  \n",
            "July                     888                  672        1806  \n",
            "August                   372                 1060        1003  \n",
            "\n",
            "[8 rows x 22 columns]\n"
          ]
        }
      ]
    },
    {
      "cell_type": "code",
      "source": [
        "results = []\n",
        "for month_name, row_data in monthly_product_sales_pivot.iterrows():\n",
        "    # Find the maximum sales for the current month\n",
        "    max_boxes_sold = row_data.max()\n",
        "\n",
        "\n",
        "    top_products = row_data[row_data == max_boxes_sold].index.tolist()\n",
        "\n",
        "    results.append({\n",
        "            'Month': month_name,\n",
        "            'Most Sold Product': ', '.join(top_products), # Join multiple if there's a tie\n",
        "            'Boxes Sold': max_boxes_sold\n",
        "        })\n",
        "\n",
        "most_sold_products_per_month = pd.DataFrame(results)\n",
        "print(most_sold_products_per_month)"
      ],
      "metadata": {
        "colab": {
          "base_uri": "https://localhost:8080/"
        },
        "id": "KH_Ep7BCfGAO",
        "outputId": "71b9c40b-98d4-41be-eb4b-bc266085f1d3"
      },
      "execution_count": null,
      "outputs": [
        {
          "output_type": "stream",
          "name": "stdout",
          "text": [
            "      Month    Most Sold Product  Boxes Sold\n",
            "0   January  Organic Choco Syrup        2062\n",
            "1  February  Spicy Special Slims        1616\n",
            "2     March   Smooth Sliky Salty        2034\n",
            "3     April        85% Dark Bars        1818\n",
            "4       May   Smooth Sliky Salty        1526\n",
            "5      June     Fruit & Nut Bars        1976\n",
            "6      July   Manuka Honey Choco        2071\n",
            "7    August      99% Dark & Pure        2012\n"
          ]
        }
      ]
    },
    {
      "cell_type": "code",
      "source": [
        "salesperson = df['Sales Person'].value_counts().sort_values(ascending=False)\n",
        "top_seller = salesperson.idxmax()\n",
        "print(\"most sales performed by\",top_seller,\"with\",salesperson[top_seller],\"sales\")\n",
        "averagesales = salesperson.mean()\n",
        "print(\"the average number of sales per employee\",averagesales)\n"
      ],
      "metadata": {
        "colab": {
          "base_uri": "https://localhost:8080/"
        },
        "id": "aiADnSYI89G7",
        "outputId": "5c6ac06d-6fed-4ac4-c443-2fe3fddec78e"
      },
      "execution_count": null,
      "outputs": [
        {
          "output_type": "stream",
          "name": "stdout",
          "text": [
            "most sales performed by Kelci Walkden with 54 sales\n",
            "the average number of sales per employee 43.76\n"
          ]
        }
      ]
    },
    {
      "cell_type": "code",
      "source": [
        "print(\"--- number of sales --- \")\n",
        "print(salesperson)"
      ],
      "metadata": {
        "colab": {
          "base_uri": "https://localhost:8080/"
        },
        "id": "29JBOfzPihLA",
        "outputId": "b666ae1a-6bba-4fcd-ad14-5e0fc0181fcd"
      },
      "execution_count": null,
      "outputs": [
        {
          "output_type": "stream",
          "name": "stdout",
          "text": [
            "--- number of sales --- \n",
            "Sales Person\n",
            "Kelci Walkden          54\n",
            "Brien Boise            53\n",
            "Van Tuxwell            51\n",
            "Beverie Moffet         50\n",
            "Oby Sorrel             49\n",
            "Dennison Crosswaite    49\n",
            "Ches Bonnell           48\n",
            "Gigi Bohling           47\n",
            "Karlen McCaffrey       47\n",
            "Curtice Advani         46\n",
            "Madelene Upcott        45\n",
            "Kaine Padly            45\n",
            "Marney O'Breen         45\n",
            "Jehu Rudeforth         43\n",
            "Roddy Speechley        43\n",
            "Gunar Cockshoot        43\n",
            "Barr Faughny           43\n",
            "Mallorie Waber         41\n",
            "Jan Morforth           39\n",
            "Andria Kimpton         39\n",
            "Husein Augar           38\n",
            "Dotty Strutley         36\n",
            "Rafaelita Blaksland    34\n",
            "Wilone O'Kielt         34\n",
            "Camilla Castle         32\n",
            "Name: count, dtype: int64\n"
          ]
        }
      ]
    },
    {
      "cell_type": "code",
      "source": [
        "salespersonrevenue = df.groupby(\"Sales Person\")[\"Amount\"].sum().sort_values(ascending=False)\n",
        "print(\"--- revenue --- \")\n",
        "print(salespersonrevenue)"
      ],
      "metadata": {
        "colab": {
          "base_uri": "https://localhost:8080/"
        },
        "id": "0a87Fv6pDd4C",
        "outputId": "4a50516d-5c83-43d5-af64-2c88a10826b7"
      },
      "execution_count": null,
      "outputs": [
        {
          "output_type": "stream",
          "name": "stdout",
          "text": [
            "most revenue \n",
            "Sales Person\n",
            "Ches Bonnell           320901.0\n",
            "Oby Sorrel             316645.0\n",
            "Madelene Upcott        316099.0\n",
            "Brien Boise            312816.0\n",
            "Kelci Walkden          311710.0\n",
            "Van Tuxwell            303149.0\n",
            "Dennison Crosswaite    291669.0\n",
            "Beverie Moffet         278922.0\n",
            "Kaine Padly            266490.0\n",
            "Marney O'Breen         259742.0\n",
            "Barr Faughny           258713.0\n",
            "Roddy Speechley        251062.0\n",
            "Gunar Cockshoot        238483.0\n",
            "Gigi Bohling           232666.0\n",
            "Karlen McCaffrey       223895.0\n",
            "Jehu Rudeforth         220976.0\n",
            "Jan Morforth           219667.0\n",
            "Curtice Advani         216461.0\n",
            "Rafaelita Blaksland    210245.0\n",
            "Husein Augar           205212.0\n",
            "Andria Kimpton         201747.0\n",
            "Mallorie Waber         200592.0\n",
            "Camilla Castle         196616.0\n",
            "Dotty Strutley         190624.0\n",
            "Wilone O'Kielt         138523.0\n",
            "Name: Amount, dtype: float64\n"
          ]
        }
      ]
    },
    {
      "cell_type": "markdown",
      "source": [
        "sales per countrey are almost identical"
      ],
      "metadata": {
        "id": "Ol8A-dsJjRr4"
      }
    },
    {
      "cell_type": "code",
      "source": [
        "countries = df['Country'].value_counts()\n",
        "countries.plot(kind=\"pie\",autopct='%1.1f%%')\n",
        "plt.title('country sales')\n",
        "plt.show()\n"
      ],
      "metadata": {
        "colab": {
          "base_uri": "https://localhost:8080/",
          "height": 428
        },
        "id": "qr0BFy9_PaAh",
        "outputId": "e2c41785-aa80-49f6-c729-65ab80d60576"
      },
      "execution_count": null,
      "outputs": [
        {
          "output_type": "display_data",
          "data": {
            "text/plain": [
              "<Figure size 640x480 with 1 Axes>"
            ],
            "image/png": "[encoded data removed]"
          },
          "metadata": {}
        }
      ]
    },
    {
      "cell_type": "code",
      "source": [
        "revenue_per_country = df.groupby('Country')['Amount'].sum().sort_values(ascending=False)\n",
        "revenue_per_country.plot(kind='bar')\n",
        "plt.title('revenue per country')\n",
        "plt.show()"
      ],
      "metadata": {
        "colab": {
          "base_uri": "https://localhost:8080/",
          "height": 549
        },
        "id": "5NaTOoRLjjOV",
        "outputId": "4b4a9667-042a-4f87-d62d-eb172f236cb1"
      },
      "execution_count": null,
      "outputs": [
        {
          "output_type": "display_data",
          "data": {
            "text/plain": [
              "<Figure size 640x480 with 1 Axes>"
            ],
            "image/png": "[encoded data removed]"
          },
          "metadata": {}
        }
      ]
    }
  ]
}